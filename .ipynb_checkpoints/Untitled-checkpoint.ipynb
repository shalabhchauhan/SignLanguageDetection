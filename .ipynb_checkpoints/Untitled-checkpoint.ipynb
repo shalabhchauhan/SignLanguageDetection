{
 "cells": [
  {
   "cell_type": "code",
   "execution_count": 2,
   "id": "48e1f779",
   "metadata": {},
   "outputs": [],
   "source": [
    "import os\n",
    "import cv2\n",
    "import time\n",
    "import uuid"
   ]
  },
  {
   "cell_type": "code",
   "execution_count": 3,
   "id": "50dbc8a6",
   "metadata": {},
   "outputs": [],
   "source": [
    "IMAGES_PATH=r'Tensorflow\\workspace\\image\\collectedimages'\n"
   ]
  },
  {
   "cell_type": "code",
   "execution_count": 4,
   "id": "d4259e43",
   "metadata": {},
   "outputs": [],
   "source": [
    "labels =['hello','thanks',' yes','no','iloveyou']\n",
    "number_imgs = 15"
   ]
  },
  {
   "cell_type": "code",
   "execution_count": null,
   "id": "a5ea488e",
   "metadata": {},
   "outputs": [],
   "source": [
    "for label in labels:\n",
    "    !mkdir { r\"Tensorflow\\workspace\\image\\collectedimages\\\" + label }\n",
    "    cap= cv2.VideoCapture(0)"
   ]
  }
 ],
 "metadata": {
  "kernelspec": {
   "display_name": "Python 3 (ipykernel)",
   "language": "python",
   "name": "python3"
  },
  "language_info": {
   "codemirror_mode": {
    "name": "ipython",
    "version": 3
   },
   "file_extension": ".py",
   "mimetype": "text/x-python",
   "name": "python",
   "nbconvert_exporter": "python",
   "pygments_lexer": "ipython3",
   "version": "3.9.7"
  }
 },
 "nbformat": 4,
 "nbformat_minor": 5
}

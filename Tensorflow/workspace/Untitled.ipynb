{
 "cells": [
  {
   "cell_type": "code",
   "execution_count": 1,
   "id": "161607d4",
   "metadata": {},
   "outputs": [],
   "source": [
    "import os\n"
   ]
  },
  {
   "cell_type": "code",
   "execution_count": null,
   "id": "3d4222c2",
   "metadata": {},
   "outputs": [],
   "source": [
    "ls = ['A', 'B', 'C', 'D', 'E', 'F', 'G', 'H', 'I', 'J', 'K', 'L', 'M', 'N', 'O','P','Q','R','S','T','U','V', 'W', 'X', 'Y','Z']\n",
    "for folder in ls:\n",
    "    for count, filename in enumerate(os.listdir(folder)):\n",
    "        if filename.endswith(\".txt\"):\n",
    "            dst = f\"test_{folder}_{str(count)}.jpg\"\n",
    "            src =f\"{folder}/{filename}\"  # foldername/filename, if .py file is outside folder\n",
    "            dst =f\"{folder}/{dst}\"\n",
    "            os.rename(src, dst)\n",
    "        else:\n",
    "            dst = f\"test_{folder}_{str(count)}.xml\"\n",
    "            src =f\"{folder}/{filename}\"  # foldername/filename, if .py file is outside folder\n",
    "            dst =f\"{folder}/{dst}\"\n",
    "\n",
    "        # rename() function will\n",
    "        # rename all the files\n",
    "            os.rename(src, dst)"
   ]
  }
 ],
 "metadata": {
  "kernelspec": {
   "display_name": "Python 3",
   "language": "python",
   "name": "python3"
  },
  "language_info": {
   "codemirror_mode": {
    "name": "ipython",
    "version": 3
   },
   "file_extension": ".py",
   "mimetype": "text/x-python",
   "name": "python",
   "nbconvert_exporter": "python",
   "pygments_lexer": "ipython3",
   "version": "3.8.8"
  }
 },
 "nbformat": 4,
 "nbformat_minor": 5
}

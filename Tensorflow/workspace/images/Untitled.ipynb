{
 "cells": [
  {
   "cell_type": "code",
   "execution_count": null,
   "id": "5385953d",
   "metadata": {},
   "outputs": [],
   "source": [
    "\n",
    "import shutil\n",
    "import os\n",
    "  \n",
    "# Define the source and destination path\n",
    "\n",
    "destination = \"\" #your dest\n",
    "ls = ['A', 'B', 'C', 'D', 'E', 'F', 'G', 'H', 'I', 'J', 'K', 'L', 'M', 'N', 'O','P','Q','R','S','T','U','V', 'W', 'X', 'Y','Z']\n",
    "for folder in ls:\n",
    "    source = \"\"#your source\n",
    "    # code to move the files from sub-folder to main folder.\n",
    "    files = os.listdir(source)\n",
    "    for file in files:\n",
    "        file_name = os.path.join(source, file)\n",
    "        shutil.move(file_name, destination)\n",
    "print(\"Files Moved\")"
   ]
  }
 ],
 "metadata": {
  "kernelspec": {
   "display_name": "Python 3",
   "language": "python",
   "name": "python3"
  },
  "language_info": {
   "codemirror_mode": {
    "name": "ipython",
    "version": 3
   },
   "file_extension": ".py",
   "mimetype": "text/x-python",
   "name": "python",
   "nbconvert_exporter": "python",
   "pygments_lexer": "ipython3",
   "version": "3.8.8"
  }
 },
 "nbformat": 4,
 "nbformat_minor": 5
}
